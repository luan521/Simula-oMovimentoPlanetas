{
 "cells": [
  {
   "cell_type": "markdown",
   "metadata": {},
   "source": [
    "## Importando as bibliotecas"
   ]
  },
  {
   "cell_type": "code",
   "execution_count": 1,
   "metadata": {},
   "outputs": [],
   "source": [
    "import matplotlib.pyplot as plt\n",
    "import ipywidgets as wdg\n",
    "from ipywidgets import interactive\n",
    "import math as m"
   ]
  },
  {
   "cell_type": "markdown",
   "metadata": {},
   "source": [
    "## Definindo constantes da natureza"
   ]
  },
  {
   "cell_type": "markdown",
   "metadata": {},
   "source": [
    "Com o objetivo de evitar erros computacionais, foram utilizadas as unidades de grandeza definidas abaixo, para definir a constante gravitacional universal e a massa do sol.\n",
    "\n",
    "Unidade de distância: (10^11) metros\n",
    "\n",
    "Unidade de tempo: (10^7) segundos\n",
    "\n",
    "Unidade de massa: (10^30) quilogramas"
   ]
  },
  {
   "cell_type": "code",
   "execution_count": 2,
   "metadata": {},
   "outputs": [],
   "source": [
    "G = 6.67408  #Constante gravitacional universal \n",
    "\n",
    "M = 1.989  #Massa do sol "
   ]
  },
  {
   "cell_type": "markdown",
   "metadata": {},
   "source": [
    "## Implementando o algoritmo de solução"
   ]
  },
  {
   "cell_type": "code",
   "execution_count": 3,
   "metadata": {},
   "outputs": [],
   "source": [
    "delta_tempo = pow(10,-5) # Unidade de tempo: (10^7)s\n",
    "\n",
    "# r_0: Posição inicial do planeta\n",
    "# v_0: Velocidade inicial do planeta\n",
    "# ang: Ângulo da velocidade inicial com o eixo x\n",
    "# tempo: Tempo para observar a órbita do planeta, em dias\n",
    "\n",
    "def movimento(r_0,v_0,ang,tempo):\n",
    "    \n",
    "    x = []\n",
    "    y = []\n",
    "    \n",
    "    #Posição inicial\n",
    "    x.append(r_0)\n",
    "    y.append(0)\n",
    "    \n",
    "    #Velocidade inicial\n",
    "    v_x = m.cos((ang/180)*m.pi)*v_0\n",
    "    v_y = m.sin((ang/180)*m.pi)*v_0\n",
    "    \n",
    "    #Aceleração inicial\n",
    "    r = r_0\n",
    "    a_x = -(G*M)/pow(r,2)\n",
    "    a_y = 0\n",
    "    \n",
    "    delta_tempo_dias = (delta_tempo*pow(10,7))/86400 # Unidade de tempo: dias\n",
    "    n = int(tempo/(delta_tempo_dias)) \n",
    "    \n",
    "    for i in range(1,n):\n",
    "        \n",
    "        x.append(x[i-1]+v_x*delta_tempo) # Atualizando a posição\n",
    "        y.append(y[i-1]+v_y*delta_tempo)\n",
    "        \n",
    "        v_x = v_x+a_x*delta_tempo # Atualizando a velocidade\n",
    "        v_y = v_y+a_y*delta_tempo\n",
    "        \n",
    "        r = m.sqrt(pow(x[i],2)+pow(y[i],2)) # Atualizando a aceleração\n",
    "        a = -(G*M)/pow(r,2)\n",
    "        a_x = (x[i]/r)*a\n",
    "        a_y = (y[i]/r)*a\n",
    "        \n",
    "    return x,y # Retorna a posição da particula, em cada instante de tempo"
   ]
  },
  {
   "cell_type": "markdown",
   "metadata": {},
   "source": [
    "## Definindo a função plotar_movimento"
   ]
  },
  {
   "cell_type": "markdown",
   "metadata": {},
   "source": [
    "Na célula abaixo, ajuste as condições iniciais do planeta, utilizando as unidades definidas \n",
    "\n",
    "Unidade de distância: (10^11) metros; \n",
    "\n",
    "Unidade de tempo: (10^7) segundos.\n",
    "\n",
    "#### Obs: \n",
    "O ângulo teta, que determina as componentes da velocidade nos eixos x e y, será um parâmetro ajustavel no resultado final, assim como o tempo em que computamos o movimento.\n",
    "\n",
    "#### Caso partícular, Planeta Terra, quando o planeta encontra-se mais longe do sol:\n",
    "\n",
    "r_0 = 1.521\n",
    "\n",
    "v_0 = 3.0289"
   ]
  },
  {
   "cell_type": "code",
   "execution_count": 4,
   "metadata": {},
   "outputs": [],
   "source": [
    "r_0 = 1.521 # Distância inicial do planeta ao sol\n",
    "v_0 = 3.0289 # Velocidade inicial do planeta"
   ]
  },
  {
   "cell_type": "code",
   "execution_count": 5,
   "metadata": {},
   "outputs": [],
   "source": [
    "def plotar_movimento(ang_teta,tempo_dias): # Plotar movimento do planeta em torno do sol\n",
    "\n",
    "    \n",
    "    mov = movimento(r_0,v_0,ang_teta,tempo_dias)\n",
    "    \n",
    "    plt.title('Trajetória em torno do sol',fontsize=20) # Título\n",
    "\n",
    "    plt.plot(mov[0],mov[1], label='Trajetória do planeta') # Movimento do planeta\n",
    "    plt.scatter(0,0,color='orange', label='Sol') # Posição do sol\n",
    "\n",
    "    plt.legend(loc=[1.1,0.81],fontsize=15) # Legenda\n",
    "\n",
    "    plt.xlim(-2*r_0,2*r_0) # Comprimento do eixo x\n",
    "    plt.ylim(-2*r_0,2*r_0) # Comprimento do eixo y\n",
    "    \n",
    "    plt.xlabel('X (10^11)metros',fontsize=15) # Nomeando eixo x\n",
    "    plt.ylabel('Y (10^11)metros',fontsize=15) # Nomeando eixo y\n",
    "    \n",
    "    plt.rcParams['figure.figsize'] = (5,5) # Modificando a escala do gráfico\n",
    "\n",
    "    plt.show()"
   ]
  },
  {
   "cell_type": "markdown",
   "metadata": {},
   "source": [
    "![alt text](https://i.imgur.com/MMh0zp0.png)"
   ]
  },
  {
   "cell_type": "markdown",
   "metadata": {},
   "source": [
    "### Ajuste o ângulo teta, medido em graus, e o tempo, medido em dias."
   ]
  },
  {
   "cell_type": "code",
   "execution_count": 6,
   "metadata": {},
   "outputs": [
    {
     "data": {
      "application/vnd.jupyter.widget-view+json": {
       "model_id": "e053423bf9c44bab9bad913168121638",
       "version_major": 2,
       "version_minor": 0
      },
      "text/plain": [
       "interactive(children=(IntSlider(value=180, description='ang_teta', max=360, step=2), IntSlider(value=350, desc…"
      ]
     },
     "metadata": {},
     "output_type": "display_data"
    }
   ],
   "source": [
    "intr_plot=interactive(plotar_movimento,ang_teta=(0,360,2),tempo_dias=(0,700,5))\n",
    "intr_plot"
   ]
  },
  {
   "cell_type": "markdown",
   "metadata": {},
   "source": [
    "### Obs: \n",
    "Se o planeta, ou um objeto qualquer, se aproximar muito do sol, a força gravitacional passa a aumentar cada vez mais e a velocidade do planeta também, levando a erros computacionais. Além do mais, não levamos em conta que, quando o planeta cai no sol, outras forças passam a atuar, de forma que o planeta para de seguir o movimento descrito pela força gravitacional. "
   ]
  }
 ],
 "metadata": {
  "kernelspec": {
   "display_name": "Python 3",
   "language": "python",
   "name": "python3"
  },
  "language_info": {
   "codemirror_mode": {
    "name": "ipython",
    "version": 3
   },
   "file_extension": ".py",
   "mimetype": "text/x-python",
   "name": "python",
   "nbconvert_exporter": "python",
   "pygments_lexer": "ipython3",
   "version": "3.7.6"
  }
 },
 "nbformat": 4,
 "nbformat_minor": 4
}
